{
 "cells": [
  {
   "cell_type": "code",
   "execution_count": 2,
   "id": "82a4a6dd-c03f-4568-b2fa-d23218aaa15f",
   "metadata": {},
   "outputs": [],
   "source": [
    "from openai import AzureOpenAI\n",
    "import os\n",
    "\n",
    "client = AzureOpenAI(\n",
    "            azure_endpoint = os.getenv(\"AZURE_OPENAI_ENDPOINT\"), \n",
    "            api_key=os.getenv(\"AZURE_OPENAI_API_KEY\"),  \n",
    "            api_version=\"2023-05-15\"\n",
    "        )"
   ]
  },
  {
   "cell_type": "code",
   "execution_count": 17,
   "id": "7c0e9e30-4d5c-4907-bd74-d0246f724967",
   "metadata": {},
   "outputs": [],
   "source": [
    "functions = [\n",
    "    {\n",
    "        \"name\": \"get_customer_info\",\n",
    "        \"description\": \"Get name list of IRM's customer\",\n",
    "        \"parameters\": {\n",
    "            \"type\": \"object\",\n",
    "            \"properties\": {\n",
    "                \"customer_name\": {\n",
    "                    \"type\": \"string\",\n",
    "                    \"description\": \"The name of the customer, e.g. Tapstry\",\n",
    "                },\n",
    "            },\n",
    "            \"required\": [\"customer_name\"],\n",
    "        },\n",
    "    },\n",
    "    {\n",
    "        \"name\": \"create_review\",\n",
    "        \"description\": \"Create a review for the IRM\",\n",
    "        \"parameters\": {\n",
    "            \"type\": \"object\",\n",
    "            \"properties\": {\n",
    "                \"review_text\": {\n",
    "                    \"type\": \"string\",\n",
    "                    \"description\": \"The text of the review, e.g. Great IRM!\",\n",
    "                },\n",
    "            },\n",
    "            \"required\": [\"review_text\"],\n",
    "        },\n",
    "    },\n",
    "    {\n",
    "        \"name\": \"ask_vector_db\",\n",
    "        \"description\": \"Ask any question related to IRM. This can include queries about administrator guide for settings.\",\n",
    "        \"parameters\": {\n",
    "            \"type\": \"object\",\n",
    "            \"properties\": {\n",
    "                \"question\": {\n",
    "                    \"type\": \"string\",\n",
    "                    \"description\": \"The question to ask, e.g. 'How to manage brands?'\",\n",
    "                },\n",
    "            },\n",
    "            \"required\": [\"question\"],\n",
    "        },\n",
    "    },\n",
    "]"
   ]
  },
  {
   "cell_type": "code",
   "execution_count": 24,
   "id": "b5217479-e9f2-4674-9027-268dbc361e88",
   "metadata": {},
   "outputs": [],
   "source": [
    "response = client.chat.completions.create(\n",
    "            model=\"gpt-35-turbo\",\n",
    "            messages=[\n",
    "                {\n",
    "                    \"role\": \"system\",\n",
    "                    \"content\": \"I am your assistant.\",\n",
    "                },\n",
    "                {\"role\": \"user\", \"content\": \"How to manage brands?\"},\n",
    "            ],\n",
    "            functions=functions\n",
    "        )\n",
    "message = response.choices[0].message"
   ]
  },
  {
   "cell_type": "code",
   "execution_count": 25,
   "id": "1e911d1d-cb1f-4720-beb6-c50bde75c585",
   "metadata": {},
   "outputs": [
    {
     "name": "stdout",
     "output_type": "stream",
     "text": [
      "ChatCompletionMessage(content=None, role='assistant', function_call=FunctionCall(arguments='{\"question\":\"How to manage brands?\"}', name='ask_vector_db'), tool_calls=None)\n"
     ]
    }
   ],
   "source": [
    "print(message)"
   ]
  },
  {
   "cell_type": "code",
   "execution_count": 30,
   "id": "0b81f669-deb8-4236-9aad-b51a009927e2",
   "metadata": {},
   "outputs": [
    {
     "name": "stdout",
     "output_type": "stream",
     "text": [
      "FunctionCall(arguments='{\"question\":\"How to manage brands?\"}', name='ask_vector_db')\n",
      "ask_vector_db\n",
      "{'question': 'How to manage brands?'}\n"
     ]
    }
   ],
   "source": [
    "import json\n",
    "if message.function_call:\n",
    "    print(message.function_call)\n",
    "    function_name = message.function_call.name\n",
    "    function_args_json = message.function_call.arguments\n",
    "    function_args = json.loads(function_args_json)\n",
    "    print(function_name)\n",
    "    print(function_args)"
   ]
  },
  {
   "cell_type": "code",
   "execution_count": null,
   "id": "d2a0c76c-9d73-4c7e-80e9-599d9ec67a4c",
   "metadata": {},
   "outputs": [],
   "source": []
  }
 ],
 "metadata": {
  "kernelspec": {
   "display_name": "Python 3 (ipykernel)",
   "language": "python",
   "name": "python3"
  },
  "language_info": {
   "codemirror_mode": {
    "name": "ipython",
    "version": 3
   },
   "file_extension": ".py",
   "mimetype": "text/x-python",
   "name": "python",
   "nbconvert_exporter": "python",
   "pygments_lexer": "ipython3",
   "version": "3.11.4"
  }
 },
 "nbformat": 4,
 "nbformat_minor": 5
}
